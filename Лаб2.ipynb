{
 "cells": [
  {
   "cell_type": "code",
   "execution_count": null,
   "metadata": {
    "id": "P1xnCh78AyB0"
   },
   "outputs": [],
   "source": [
    "#1. Определить время года по номеру месяца.\n",
    "\n",
    "a = int(input ('Choose a month'))\n",
    "if a == 1 or a == 2 or a == 12:\n",
    "    print ('Winter')\n",
    "elif a == 3 or a == 4 or a == 5:\n",
    "    print ('Sping')\n",
    "elif a == 6 or a == 7 or a == 8:\n",
    "    print ('Summer')\n",
    "elif a == 9 or a == 10 or a == 11:\n",
    "    print ('Autumn')\n",
    "else:\n",
    "    print ('Error')"
   ]
  },
  {
   "cell_type": "code",
   "execution_count": 1,
   "metadata": {
    "id": "0R_QMtkeEw5L"
   },
   "outputs": [
    {
     "name": "stdout",
     "output_type": "stream",
     "text": [
      "a =5\n",
      "b =3\n",
      "c =8\n",
      "d =10\n",
      "3\n"
     ]
    }
   ],
   "source": [
    "#2. Определить минимальное значение среди чисел $a, b, c, d$ (не использовать стандартные функции max и min).\n",
    "a = int(input(\"a =\"))\n",
    "b = int(input(\"b =\"))\n",
    "c = int(input(\"c =\"))\n",
    "d = int(input(\"d =\"))\n",
    "\n",
    "if (a<b) and (a<c) and (a<d):\n",
    " print (a)\n",
    "elif (b<a)and (b<c) and (b<d):\n",
    "  print (b)\n",
    "elif (c<d) and (c<a) and (c<b):\n",
    "  print (c)\n",
    "else:\n",
    "  print (d)"
   ]
  },
  {
   "cell_type": "code",
   "execution_count": 7,
   "metadata": {
    "id": "haDN7B94EzkN"
   },
   "outputs": [
    {
     "name": "stdout",
     "output_type": "stream",
     "text": [
      "77\n",
      "4\n"
     ]
    }
   ],
   "source": [
    "#3. Напишите программу, которая переводит оценку из 100-балльной системы в пятибалльную по правилам, принятым в университете.\n",
    "n = int(input())\n",
    "print(2 if 0 <= n < 50 else 3 if n <= 75 else 4 if n < 95 else 5)\n"
   ]
  },
  {
   "cell_type": "code",
   "execution_count": 13,
   "metadata": {
    "colab": {
     "base_uri": "https://localhost:8080/"
    },
    "id": "x4mZW_GQE1gE",
    "outputId": "2b04f6fe-fa26-465d-f68a-b67303441a3e"
   },
   "outputs": [
    {
     "name": "stdout",
     "output_type": "stream",
     "text": [
      "Введите трех значное число: 607\n",
      "F =  1\n"
     ]
    }
   ],
   "source": [
    "#4. Вычислить значение $F: F=1$, если цифра $7$ входит в запись заданного трехзначного числа, и $0$ – в противном случае.\n",
    "ch = input(\"Введите трех значное число: \", )\n",
    "F = 0\n",
    "for a in ch:\n",
    "  if int(a) == 7:\n",
    "    F = 1\n",
    " \n",
    "print (\"F = \", F)\n"
   ]
  },
  {
   "cell_type": "code",
   "execution_count": 115,
   "metadata": {
    "colab": {
     "base_uri": "https://localhost:8080/"
    },
    "id": "jP-k48GqE3GE",
    "outputId": "11b40e33-eba9-44ab-ac72-2ae3d1e39598"
   },
   "outputs": [
    {
     "ename": "KeyboardInterrupt",
     "evalue": "Interrupted by user",
     "output_type": "error",
     "traceback": [
      "\u001b[1;31m---------------------------------------------------------------------------\u001b[0m",
      "\u001b[1;31mKeyboardInterrupt\u001b[0m                         Traceback (most recent call last)",
      "Cell \u001b[1;32mIn[115], line 3\u001b[0m\n\u001b[0;32m      1\u001b[0m \u001b[38;5;66;03m#5. Даны два отрезка $[a;b]$ и $[c;d]$. Найдите их пересечение. Если отрезки не пересекаются, то выдайте сообщение.\u001b[39;00m\n\u001b[1;32m----> 3\u001b[0m a1, b1 \u001b[38;5;241m=\u001b[39m \u001b[38;5;28mmap\u001b[39m(\u001b[38;5;28mint\u001b[39m,\u001b[38;5;28minput\u001b[39m()\u001b[38;5;241m.\u001b[39msplit())\n\u001b[0;32m      4\u001b[0m a2, b2 \u001b[38;5;241m=\u001b[39m \u001b[38;5;28mmap\u001b[39m(\u001b[38;5;28mint\u001b[39m,\u001b[38;5;28minput\u001b[39m()\u001b[38;5;241m.\u001b[39msplit())\n\u001b[0;32m      5\u001b[0m a3 \u001b[38;5;241m=\u001b[39m \u001b[38;5;28mmax\u001b[39m(a1,a2)\n",
      "File \u001b[1;32m~\\anaconda3\\Lib\\site-packages\\ipykernel\\kernelbase.py:1175\u001b[0m, in \u001b[0;36mKernel.raw_input\u001b[1;34m(self, prompt)\u001b[0m\n\u001b[0;32m   1171\u001b[0m \u001b[38;5;28;01mif\u001b[39;00m \u001b[38;5;129;01mnot\u001b[39;00m \u001b[38;5;28mself\u001b[39m\u001b[38;5;241m.\u001b[39m_allow_stdin:\n\u001b[0;32m   1172\u001b[0m     \u001b[38;5;28;01mraise\u001b[39;00m StdinNotImplementedError(\n\u001b[0;32m   1173\u001b[0m         \u001b[38;5;124m\"\u001b[39m\u001b[38;5;124mraw_input was called, but this frontend does not support input requests.\u001b[39m\u001b[38;5;124m\"\u001b[39m\n\u001b[0;32m   1174\u001b[0m     )\n\u001b[1;32m-> 1175\u001b[0m \u001b[38;5;28;01mreturn\u001b[39;00m \u001b[38;5;28mself\u001b[39m\u001b[38;5;241m.\u001b[39m_input_request(\n\u001b[0;32m   1176\u001b[0m     \u001b[38;5;28mstr\u001b[39m(prompt),\n\u001b[0;32m   1177\u001b[0m     \u001b[38;5;28mself\u001b[39m\u001b[38;5;241m.\u001b[39m_parent_ident[\u001b[38;5;124m\"\u001b[39m\u001b[38;5;124mshell\u001b[39m\u001b[38;5;124m\"\u001b[39m],\n\u001b[0;32m   1178\u001b[0m     \u001b[38;5;28mself\u001b[39m\u001b[38;5;241m.\u001b[39mget_parent(\u001b[38;5;124m\"\u001b[39m\u001b[38;5;124mshell\u001b[39m\u001b[38;5;124m\"\u001b[39m),\n\u001b[0;32m   1179\u001b[0m     password\u001b[38;5;241m=\u001b[39m\u001b[38;5;28;01mFalse\u001b[39;00m,\n\u001b[0;32m   1180\u001b[0m )\n",
      "File \u001b[1;32m~\\anaconda3\\Lib\\site-packages\\ipykernel\\kernelbase.py:1217\u001b[0m, in \u001b[0;36mKernel._input_request\u001b[1;34m(self, prompt, ident, parent, password)\u001b[0m\n\u001b[0;32m   1214\u001b[0m             \u001b[38;5;28;01mbreak\u001b[39;00m\n\u001b[0;32m   1215\u001b[0m \u001b[38;5;28;01mexcept\u001b[39;00m \u001b[38;5;167;01mKeyboardInterrupt\u001b[39;00m:\n\u001b[0;32m   1216\u001b[0m     \u001b[38;5;66;03m# re-raise KeyboardInterrupt, to truncate traceback\u001b[39;00m\n\u001b[1;32m-> 1217\u001b[0m     \u001b[38;5;28;01mraise\u001b[39;00m \u001b[38;5;167;01mKeyboardInterrupt\u001b[39;00m(\u001b[38;5;124m\"\u001b[39m\u001b[38;5;124mInterrupted by user\u001b[39m\u001b[38;5;124m\"\u001b[39m) \u001b[38;5;28;01mfrom\u001b[39;00m \u001b[38;5;28;01mNone\u001b[39;00m\n\u001b[0;32m   1218\u001b[0m \u001b[38;5;28;01mexcept\u001b[39;00m \u001b[38;5;167;01mException\u001b[39;00m:\n\u001b[0;32m   1219\u001b[0m     \u001b[38;5;28mself\u001b[39m\u001b[38;5;241m.\u001b[39mlog\u001b[38;5;241m.\u001b[39mwarning(\u001b[38;5;124m\"\u001b[39m\u001b[38;5;124mInvalid Message:\u001b[39m\u001b[38;5;124m\"\u001b[39m, exc_info\u001b[38;5;241m=\u001b[39m\u001b[38;5;28;01mTrue\u001b[39;00m)\n",
      "\u001b[1;31mKeyboardInterrupt\u001b[0m: Interrupted by user"
     ]
    }
   ],
   "source": [
    "#5. Даны два отрезка $[a;b]$ и $[c;d]$. Найдите их пересечение. Если отрезки не пересекаются, то выдайте сообщение.\n",
    "print(\"введите координаты концов первого отрезка: \")\n",
    "a1, b1 = map(int,input(\"Первые точки x, y = \", ).split())\n",
    "a2, b2 = map(int,input(\"Вторые точки x, y = \", ).split())\n",
    "print(\"введите координаты концов второго отрезка: \")\n",
    "c1, d1 = map(int,input(\"Первые точки x, y = \").split())\n",
    "c2, d2 = map(int,input(\"Вторые точки x, y = \").split())\n",
    "\n",
    "def point(x,y):\n",
    "    if min(a1, a2) <= x <= max(a1,a2):\n",
    "        print('Точка пересечения')"
   ]
  },
  {
   "cell_type": "code",
   "execution_count": 12,
   "metadata": {
    "id": "3z_xkTO7E422"
   },
   "outputs": [
    {
     "name": "stdout",
     "output_type": "stream",
     "text": [
      "2024\n",
      "Високосный\n"
     ]
    }
   ],
   "source": [
    "#6. По номеру года определите, является ли данный год високосным. (год является високосным, если его номер кратен 4, но не кратен 100, а также если он кратен 400).\n",
    "\n",
    "year = int(input())\n",
    "if (year % 4 == 0 and year%100 != 0) or (year%400 == 0): \n",
    "    print(\"Високосный\")\n",
    "else:\n",
    "    print(\"Обычный\")"
   ]
  },
  {
   "cell_type": "code",
   "execution_count": 117,
   "metadata": {
    "id": "tmU97n5RE6GB"
   },
   "outputs": [
    {
     "name": "stdout",
     "output_type": "stream",
     "text": [
      "Стороны:\n",
      "a = 5\n",
      "b = 3\n",
      "c = 2\n",
      "Треугольник не существует\n"
     ]
    }
   ],
   "source": [
    "# 7. Для отрезков длины a, b, c определить, можно ли из них составить треугольник \n",
    "# и является ли этот треугольник прямоугольным.\n",
    "\n",
    "print(\"Стороны:\")\n",
    "a = float(input(\"a = \"))\n",
    "b = float(input(\"b = \"))\n",
    "c = float(input(\"c = \"))\n",
    " \n",
    "if a + b > c and a + c > b and b + c > a:\n",
    "    print(\"Треугольник существует\")\n",
    "else:\n",
    "    print(\"Треугольник не существует\")\n"
   ]
  },
  {
   "cell_type": "code",
   "execution_count": 34,
   "metadata": {
    "id": "brXtJG1_E7S2"
   },
   "outputs": [
    {
     "name": "stdout",
     "output_type": "stream",
     "text": [
      "дано уравнение: ax^2+bx+c=0 \n",
      "Введите значения для a, b, c:1 11 0\n",
      "Ответ: x1 = -35.75 Ответ: x2 = 0.00\n"
     ]
    }
   ],
   "source": [
    "# 8. Напишите программу для решения уравнения\n",
    "# ax^2+bx+c=0 \n",
    "# Коэффициенты a, b, c могут быть любыми числами.\n",
    "\n",
    "print (\"дано уравнение: ax^2+bx+c=0 \")\n",
    "a,b,c = map(float,input (\"Введите значения для a, b, c:\",).split(' '))\n",
    "\n",
    "D = b**2 - 4*a*c\n",
    "\n",
    "if D>0:\n",
    "    x1 = (-b-(D)**1/2)/2*a \n",
    "    x2 = (-b+(D)**0.5)/2*a\n",
    "    print(\"Ответ: x1 =\",'%.2f' % x1, \"Ответ: x2 =\",'%.2f'% x2)\n",
    "    \n",
    "elif D==0:\n",
    "    \n",
    "    x = (-b/2*a)\n",
    "    print(\"Ответ: x = \", '%.2f'% x)\n",
    "    \n",
    "else:\n",
    "    print(\"Корней нет\")\n"
   ]
  },
  {
   "cell_type": "code",
   "execution_count": 118,
   "metadata": {
    "id": "YDloP65XE-pg"
   },
   "outputs": [
    {
     "name": "stdout",
     "output_type": "stream",
     "text": [
      "Введите любое число: 11\n",
      "Вам начислили: 11 рублей\n"
     ]
    }
   ],
   "source": [
    "#9. Вводится целое число. Выведите его на экран и допишите к нему слова «рубль», «рубля» или «рублей» в зависимости от значения. Алгоритм:\n",
    "#- исключение: если число оканчивается на 11, 12, 13 или 14, добавляем слово «рублей»;\n",
    "#- если число оканчивается на 1, добавляем слово «рубль»;\n",
    "#- если число оканчивается на 2, 3 или 4, добавляем слово «рубля»;\n",
    "#- если число оканчивается на цифры 5, 6, 7, 8, 9 или 0, добавляем слово «рублей».\n",
    "\n",
    "#x = input(\"Введите любое число:\")\n",
    "#print (\"Вы получили: \", x, end =' ')\n",
    "\n",
    "val = int(input(\"Введите любое число: \"))\n",
    "ruble = str(val)\n",
    "last_char = ruble[-1]\n",
    "if len(ruble) >= 2 and ruble[-2] == '1':\n",
    "    ruble_case = \"рублей\"\n",
    "elif last_char == '1':\n",
    "    ruble_case = \"рубль\"\n",
    "elif last_char == '2' or last_char == '3' or last_char == '4':\n",
    "    ruble_case = \"рубля\"\n",
    "print(f\"Вам начислили: {val} {ruble_case}\")\n"
   ]
  },
  {
   "cell_type": "code",
   "execution_count": 23,
   "metadata": {
    "id": "WbBH1uTcE_3t"
   },
   "outputs": [
    {
     "name": "stdout",
     "output_type": "stream",
     "text": [
      "4 0\n",
      "Ваши координаты находятся на оси\n"
     ]
    }
   ],
   "source": [
    "#10. Пользователь поочередно вводит координаты точки в декартовой системе координат. Определить, какой четверти \n",
    "#принадлежит данная точка или на какой оси она находится. Расположение точки вывести на экран. \n",
    "#Найти произведение номера четверти на расстояние от этой точки до начала координат и вывести его на экран. \n",
    "#Если точка лежит на оси, считать, что номер четверти равен 0.\n",
    "\n",
    "x1, y1 = map(int,input().split())\n",
    "\n",
    "if y1>0 and x1>0:\n",
    "    print (\"Ваши координаты находятся в 1й четверти\")\n",
    "elif y1>0 and x1<0:\n",
    "    print(\"Ваши координаты находятся в 2й четверти\")\n",
    "elif y1<0 and x1<0:\n",
    "    print(\"Ваши координаты находятся в 3й четверти\")\n",
    "elif y1<0 and x1>0:\n",
    "    print(\"Ваши координаты находятся в 4й четверти\")\n",
    "else:\n",
    "    print(\"Ваши координаты находятся на оси\")"
   ]
  },
  {
   "cell_type": "code",
   "execution_count": 120,
   "metadata": {
    "id": "E1GFhtWgFBGu"
   },
   "outputs": [
    {
     "name": "stdout",
     "output_type": "stream",
     "text": [
      "1\n",
      "один "
     ]
    }
   ],
   "source": [
    "#11. Выведите значение заданного целого числа от 0 до 999 прописью. \n",
    "#Например, «сто девяносто один» для числа 191, \n",
    "#«одиннадцать» для числа 11.\n",
    "#a, b, c = map(str,list(input()))\n",
    "d = list(input())\n",
    "if len(d)==3:\n",
    "    a = d[0]\n",
    "    b = d[1]\n",
    "    c = d[2]\n",
    "elif len (d)==2:\n",
    "    a =\"0\"\n",
    "    b =d[0]\n",
    "    c =d[1]\n",
    "else:\n",
    "    a=\"0\"\n",
    "    b=\"0\"\n",
    "    c =d[0]\n",
    "\n",
    "match a:\n",
    "    case \"1\":\n",
    "        print (\"сто\", end = ' ')\n",
    "    case \"2\":\n",
    "        print (\"двести\", end = ' ')\n",
    "    case \"3\":\n",
    "        print (\"триста\", end = ' ')\n",
    "    case \"4\":\n",
    "        print (\"четыреста\", end = ' ')\n",
    "    case \"5\":\n",
    "        print (\"пятьсот\", end = ' ')\n",
    "    case \"6\":\n",
    "        print (\"шестьсот\", end = ' ')\n",
    "    case \"7\":\n",
    "        print (\"семьсот\", end = ' ')\n",
    "    case \"8\":\n",
    "        print (\"восемьсот\", end = ' ')\n",
    "    case \"9\":\n",
    "        print (\"девятьсот\", end = ' ')\n",
    "    case \"0\":\n",
    "        print ('', end = '')\n",
    "        \n",
    "match b:\n",
    "    case \"0\":\n",
    "        print (\"\", end = '')\n",
    "    case \"1\":\n",
    "        if c == \"1\":\n",
    "            print (\"одиннадцать\", end = ' ')\n",
    "            \n",
    "        elif c ==\"2\":\n",
    "            print (\"двенадцать\", end = ' ')\n",
    "            \n",
    "        elif c ==\"3\":\n",
    "            print (\"тринадцать\", end = ' ')\n",
    "            \n",
    "        elif c ==\"4\":\n",
    "            print (\"четырнадцать\", end = ' ')\n",
    "            \n",
    "        elif c ==\"5\":\n",
    "            print (\"пятнадцать\", end = ' ')\n",
    "            \n",
    "        elif c ==\"6\":\n",
    "            print (\"шестьнадцать\", end = ' ')\n",
    "            \n",
    "        elif c ==\"7\":\n",
    "            print (\"семьнадцать\", end = ' ')\n",
    "            \n",
    "        elif c ==\"8\":\n",
    "            print (\"восемьнадцать\", end = ' ')\n",
    "        elif c == \"0\":\n",
    "            print (\"десять\", end = ' ')\n",
    "            \n",
    "        else:\n",
    "            print (\"девятьнадцать\", end = ' ')\n",
    "        \n",
    "        \n",
    "            \n",
    "    case \"2\":\n",
    "        print (\"двадцать\", end = ' ')\n",
    "    case \"3\":\n",
    "        print (\"тридцать\", end = ' ')\n",
    "    case \"4\":\n",
    "        print (\"сорок\", end = ' ')\n",
    "    case \"5\":\n",
    "        print (\"пятьдесят\", end = ' ')\n",
    "    case \"6\":\n",
    "        print (\"шестьдесят\", end = ' ')\n",
    "    case \"7\":\n",
    "        print (\"семьдесят\", end = ' ')\n",
    "    case \"8\":\n",
    "        print (\"восемьдесять\", end = ' ')\n",
    "    case \"9\":\n",
    "        print (\"девяносто\", end = ' ')\n",
    "if b == \"1\":\n",
    "    exit()\n",
    "else:\n",
    "    match c:\n",
    "        case \"1\":\n",
    "            print (\"один\", end = ' ')\n",
    "        case \"2\":\n",
    "            print (\"два\", end = ' ')\n",
    "        case \"3\":\n",
    "            print (\"три\", end = ' ')\n",
    "        case \"4\":\n",
    "            print (\"четыре\", end = ' ')\n",
    "        case \"5\":\n",
    "            print (\"пять\", end = ' ')\n",
    "        case \"6\":\n",
    "            print (\"шесть\", end = ' ')\n",
    "        case \"7\":\n",
    "            print (\"семь\", end = ' ')\n",
    "        case \"8\":\n",
    "            print (\"восемь\", end = ' ')\n",
    "        case \"9\":\n",
    "            print (\"девять\", end = ' ')\n"
   ]
  },
  {
   "cell_type": "code",
   "execution_count": 63,
   "metadata": {
    "id": "gTL3n0nZFCWk"
   },
   "outputs": [
    {
     "name": "stdout",
     "output_type": "stream",
     "text": [
      "7_9\n",
      "Примитивный калькулятор предназначен только для сложения и вычитания\n"
     ]
    }
   ],
   "source": [
    "#12. Вычислите значение выражения, которое состоит из целых чисел и знаков «+» и «-». Выражение вводится как символьная строка.\n",
    "\n",
    "#def calc(expr):\n",
    " #    return eval(expr)\n",
    "\n",
    "#print(calc(input()))\n",
    "\n",
    "d = list(input())\n",
    "\n",
    "for i in d:\n",
    "    if i == ' ':\n",
    "        d.remove(' ')\n",
    "\n",
    "a,b,c = map(str, d)\n",
    "\n",
    "if b == \"+\":\n",
    "    print (int(a)+int(c))\n",
    "elif b == \"-\":\n",
    "    print (int(a)-int(c))\n",
    "else:\n",
    "    print (\"Примитивный калькулятор предназначен только для сложения и вычитания\")"
   ]
  },
  {
   "cell_type": "code",
   "execution_count": 79,
   "metadata": {
    "id": "ds8jgpSiFDjj"
   },
   "outputs": [
    {
     "name": "stdout",
     "output_type": "stream",
     "text": [
      "проверка равенства\n",
      "проверка равенства\n",
      "сортировка введенных строк в лексикографическом порядке \n",
      " ['проверка равенства', 'проверка равенства-']\n",
      "Введенные строки равны\n"
     ]
    }
   ],
   "source": [
    "#13. Пользователь поочередно вводит 2 строки. \n",
    "# Определите, какая строка длиннее и на сколько символов, а какая строка стоит раньше в лексикографическом порядке. \n",
    "# Собрать результирующую строку, которая бы содержала 1 и 2 строки, разделенные переносом строки.\n",
    "\n",
    "name1 = input()\n",
    "name2 = input()\n",
    "name = (name1+'-\\n'+name2)\n",
    "name = name.split(\"\\n\")\n",
    "print(\"сортировка введенных строк в лексикографическом порядке \\n\",sorted(name))\n",
    "if len(name1) > len(name2):\n",
    "    print(name1, \"больше на \", (len(name1)+1)-(len(name2)+1), \"символа\")\n",
    "    print(\"Строка результат:\", name)\n",
    "elif len(name1) < len(name2):\n",
    "    print(name2, \"больше на \", (len(name2)+1)-(len(name1)+1), \"символа\")\n",
    "elif len(name1) == len(name2):\n",
    "    print(\"Введенные строки равны\")"
   ]
  },
  {
   "cell_type": "code",
   "execution_count": 101,
   "metadata": {
    "id": "8xsuQVE0FGz7"
   },
   "outputs": [
    {
     "name": "stdout",
     "output_type": "stream",
     "text": [
      "Ваше выражение (вида a op b): \n",
      "4/0\n",
      "4 0 /\n",
      "Ошибка: введите другие значения.\n"
     ]
    }
   ],
   "source": [
    "#14. Реализовать калькулятор, который принимает от пользователя через пробел строку следующего вида: «a op b», \n",
    "# где a и b – некоторые числа, а ‘op’ определяет оператор и может принимать значения \n",
    "# $«+,-,*,/,**,%»$. \n",
    "# В зависимости от оператора с помощью форматирования строк вывести результат в виде: \n",
    "# «a + b = 3 + 2 = 5», где была получена строка «3 + 2». \n",
    "# Для операций возведения в степень и деления по модулю использовать вместо знака оператора соответствующие выражения. \n",
    "# Например, для строки «2 ** 3» должно быть выведено «a в степени b = 2 в степени 3 = 8».\n",
    "\n",
    "print(\"Ваше выражение (вида a op b): \")\n",
    "\n",
    "a,c,b = map(str, list(input().replace(\" \", '')))\n",
    "\n",
    "a = int(a)\n",
    "b = int(b)\n",
    "\n",
    "match c:\n",
    "    case \"+\":\n",
    "        print (\"a + b\",\" = \", a, c, b,\" = \", a+b)\n",
    "    \n",
    "    case \"-\":\n",
    "        print (\"a\", c, \"b\",\" = \", a, c, b,\" = \", a-b)\n",
    "    \n",
    "    case \"*\":\n",
    "        print (\"a\", c, \"b\",\" = \", a, c, b,\" = \", a*b)\n",
    "    \n",
    "    case \"/\":\n",
    "      \n",
    "        if b == 0:\n",
    "            print(\"Ошибка: введите другие значения.\")\n",
    "        else:\n",
    "            print (\"a\", c, \"b\",\" = \", a, c, b,\" = \", a/b)\n",
    "    \n",
    "    case \"^\":\n",
    "        print (\"a возведение в степень b = \", a, c, b,\" = \", a**b)\n",
    "    case \"%\":\n",
    "        print (\"a деление по модулю b = \", a, c, b,\" = \", a+b)\n",
    "    \n"
   ]
  },
  {
   "cell_type": "code",
   "execution_count": 103,
   "metadata": {
    "id": "7AsEkJykFIfW"
   },
   "outputs": [
    {
     "name": "stdout",
     "output_type": "stream",
     "text": [
      "Введите число N: 3\n",
      "/\\_/\\\n",
      " /@ @\\\n",
      "(~~0~~) \t/\\_/\\\n",
      " /@ @\\\n",
      "(~~0~~) \t/\\_/\\\n",
      " /@ @\\\n",
      "(~~0~~) \t"
     ]
    }
   ],
   "source": [
    "#15. Напишите программу, которая в зависимости от введенного пользователем числа N, осуществляет вывод N кошек на экран. Пусть 1<= N <=10. Примечание: кошки при N=3 выглядят примерно так\n",
    "#```\n",
    "# /\\__/\\ /\\__/\\ /\\__/\\\n",
    "# /@ @\\ /@ @\\ /@ @\\\n",
    "# (~~0~~) (~~0~~) (~~0~~)\n",
    "#```\n",
    "\n",
    "N = int(input(\"Введите число N: \"))  # Запрашиваем у пользователя число N\n",
    "if N < 1:\n",
    "    print(\"Число N должно быть больше или равно 1\")\n",
    "else:\n",
    "    for i in range(N):\n",
    "        print(\"/\\\\_/\\\\\\n /@ @\\\\\\n(~~0~~) \")  # Выводим \"Кошка\" N раз\n"
   ]
  },
  {
   "cell_type": "code",
   "execution_count": 114,
   "metadata": {
    "id": "wchyOD5oFJ6J"
   },
   "outputs": [
    {
     "ename": "TypeError",
     "evalue": "only size-1 arrays can be converted to Python scalars",
     "output_type": "error",
     "traceback": [
      "\u001b[1;31m---------------------------------------------------------------------------\u001b[0m",
      "\u001b[1;31mTypeError\u001b[0m                                 Traceback (most recent call last)",
      "Cell \u001b[1;32mIn[114], line 22\u001b[0m\n\u001b[0;32m     19\u001b[0m x \u001b[38;5;241m=\u001b[39m np\u001b[38;5;241m.\u001b[39mrandom\u001b[38;5;241m.\u001b[39mrandint(\u001b[38;5;241m0\u001b[39m, \u001b[38;5;241m100\u001b[39m, size\u001b[38;5;241m=\u001b[39m(n, \u001b[38;5;241m2\u001b[39m))  \n\u001b[0;32m     20\u001b[0m y \u001b[38;5;241m=\u001b[39m np\u001b[38;5;241m.\u001b[39mrandom\u001b[38;5;241m.\u001b[39mrandint(\u001b[38;5;241m0\u001b[39m, \u001b[38;5;241m100\u001b[39m, size\u001b[38;5;241m=\u001b[39m(n, \u001b[38;5;241m2\u001b[39m))  \n\u001b[1;32m---> 22\u001b[0m closest_points \u001b[38;5;241m=\u001b[39m find_closest_points(x, y)\n\u001b[0;32m     23\u001b[0m \u001b[38;5;28mprint\u001b[39m(\u001b[38;5;124m\"\u001b[39m\u001b[38;5;124mНаиболее близкие точки:\u001b[39m\u001b[38;5;124m\"\u001b[39m)\n\u001b[0;32m     24\u001b[0m \u001b[38;5;28mprint\u001b[39m(\u001b[38;5;124m\"\u001b[39m\u001b[38;5;124mx:\u001b[39m\u001b[38;5;124m\"\u001b[39m, closest_points[\u001b[38;5;241m0\u001b[39m])\n",
      "Cell \u001b[1;32mIn[114], line 9\u001b[0m, in \u001b[0;36mfind_closest_points\u001b[1;34m(x, y)\u001b[0m\n\u001b[0;32m      7\u001b[0m \u001b[38;5;28;01mdef\u001b[39;00m \u001b[38;5;21mfind_closest_points\u001b[39m(x, y):\n\u001b[1;32m----> 9\u001b[0m     distances \u001b[38;5;241m=\u001b[39m math\u001b[38;5;241m.\u001b[39msqrt(np\u001b[38;5;241m.\u001b[39msum((x \u001b[38;5;241m-\u001b[39m y)\u001b[38;5;241m*\u001b[39m\u001b[38;5;241m*\u001b[39m\u001b[38;5;241m2\u001b[39m, axis\u001b[38;5;241m=\u001b[39m\u001b[38;5;241m1\u001b[39m))\n\u001b[0;32m     11\u001b[0m     min_distance_index \u001b[38;5;241m=\u001b[39m np\u001b[38;5;241m.\u001b[39margmin(distances)\n\u001b[0;32m     13\u001b[0m     closest_points \u001b[38;5;241m=\u001b[39m (x[min_distance_index], y[min_distance_index])\n",
      "\u001b[1;31mTypeError\u001b[0m: only size-1 arrays can be converted to Python scalars"
     ]
    }
   ],
   "source": [
    "#16. Имеются два n – мерных вектора x и y, которые задают координаты n точек на плоскости (случайные целые числа). \n",
    "# Найти наиболее близкие друг другу точки.\n",
    "\n",
    "import numpy as np\n",
    "\n",
    "def find_closest_points(x, y):\n",
    "    \n",
    "    distances = np.sqrt(np.sum((x - y)**2, axis=1))\n",
    "    \n",
    "    min_distance_index = np.argmin(distances)\n",
    "    \n",
    "    closest_points = (x[min_distance_index], y[min_distance_index])\n",
    "    \n",
    "    return closest_points\n",
    "\n",
    "\n",
    "n = 10  \n",
    "x = np.random.randint(0, 100, size=(n, 2))  \n",
    "y = np.random.randint(0, 100, size=(n, 2))  \n",
    "\n",
    "closest_points = find_closest_points(x, y)\n",
    "print(\"Наиболее близкие точки:\")\n",
    "print(\"x:\", closest_points[0])\n",
    "print(\"y:\", closest_points[1])"
   ]
  },
  {
   "cell_type": "code",
   "execution_count": 111,
   "metadata": {
    "id": "QipRRl3gFLDj"
   },
   "outputs": [
    {
     "name": "stdout",
     "output_type": "stream",
     "text": [
      "Введите N: 10\n",
      "Множество N2: {2, 4, 6, 8, 10}\n",
      "Множество N3: {9, 3, 6}\n",
      "Множество N6: {6}\n",
      "Множество N23: {2, 3, 4, 6, 8, 9, 10}\n"
     ]
    }
   ],
   "source": [
    "#17. Из множества целых чисел от 1 до N выделить множество N2 числа, кратные 2, множество N3 – кратные 3, множество N 6 – кратные 6 (т.е. кратные и 2 и 3), множество N 23 – кратные либо 2, либо 3.\n",
    "\n",
    "N = int(input(\"Введите N: \"))\n",
    "\n",
    "N2 = set(range(2, N+1, 2))\n",
    "N3 = set(range(3, N+1, 3))\n",
    "N6 = N2.intersection(N3)\n",
    "N23 = N2.union(N3)\n",
    "\n",
    "print(\"Множество N2:\", N2)\n",
    "print(\"Множество N3:\", N3)\n",
    "print(\"Множество N6:\", N6)\n",
    "print(\"Множество N23:\", N23)"
   ]
  },
  {
   "cell_type": "code",
   "execution_count": 110,
   "metadata": {
    "id": "gjVdDHZbFMBX"
   },
   "outputs": [
    {
     "name": "stdout",
     "output_type": "stream",
     "text": [
      "Введите количество слов: 3\n",
      "Введите слово 1: cool\n",
      "Введите слово 2: dude\n",
      "Введите слово 3: numbers\n",
      "Введите букву для подсчета: n\n",
      "Общее количество буквы 'n' в словах: 1\n"
     ]
    }
   ],
   "source": [
    "#18. Даны m (m>1) слов. Найти общее количество заданной буквы в этих словах.\n",
    "\n",
    "def count_letter(word_list, letter):\n",
    "    count = 0\n",
    "    for word in word_list:\n",
    "        count += word.count(letter)\n",
    "    return count\n",
    "\n",
    "m = int(input(\"Введите количество слов: \"))\n",
    "words = []\n",
    "for i in range(m):\n",
    "    word = input(\"Введите слово {}: \".format(i+1))\n",
    "    words.append(word)\n",
    "\n",
    "letter = input(\"Введите букву для подсчета: \")\n",
    "\n",
    "total_count = count_letter(words, letter)\n",
    "print(\"Общее количество буквы '{}' в словах: {}\".format(letter, total_count))"
   ]
  },
  {
   "cell_type": "code",
   "execution_count": 121,
   "metadata": {
    "id": "NNIHKojLFNKp"
   },
   "outputs": [
    {
     "name": "stdout",
     "output_type": "stream",
     "text": [
      "carrot boom slovo \n",
      "Слово с наибольшей долей буквы 'a' - carrot, 16.666666666666664%\n"
     ]
    }
   ],
   "source": [
    "#19. Даны m (m>1) слов. В каком из них доля (в %) заданной буквы больше.\n",
    "\n",
    "def find_word_with_highest_letter_percentage(words, letter):\n",
    "    max_percentage = 0\n",
    "    word_with_max_percentage = \"\"\n",
    "\n",
    "    for word in words:\n",
    "        total_letters = len(word)\n",
    "        letter_count = word.lower().count(letter.lower())\n",
    "        percentage = (letter_count / total_letters) * 100\n",
    "\n",
    "        if percentage > max_percentage:\n",
    "            max_percentage = percentage\n",
    "            word_with_max_percentage = word\n",
    "\n",
    "    return word_with_max_percentage, max_percentage\n",
    "\n",
    "\n",
    "word_list = map(str,list(input().split()))\n",
    "target_letter = \"a\"\n",
    "\n",
    "result_word, result_percentage = find_word_with_highest_letter_percentage(word_list, target_letter)\n",
    "print(f\"Слово с наибольшей долей буквы '{target_letter}' - {result_word}, {result_percentage}%\")"
   ]
  },
  {
   "cell_type": "code",
   "execution_count": null,
   "metadata": {},
   "outputs": [],
   "source": []
  }
 ],
 "metadata": {
  "colab": {
   "provenance": []
  },
  "kernelspec": {
   "display_name": "Python 3 (ipykernel)",
   "language": "python",
   "name": "python3"
  },
  "language_info": {
   "codemirror_mode": {
    "name": "ipython",
    "version": 3
   },
   "file_extension": ".py",
   "mimetype": "text/x-python",
   "name": "python",
   "nbconvert_exporter": "python",
   "pygments_lexer": "ipython3",
   "version": "3.11.4"
  }
 },
 "nbformat": 4,
 "nbformat_minor": 1
}
