{
 "cells": [
  {
   "cell_type": "markdown",
   "id": "75ba224b",
   "metadata": {
    "toc": true
   },
   "source": [
    "<h1>Table of Contents<span class=\"tocSkip\"></span></h1>\n",
    "<div class=\"toc\"><ul class=\"toc-item\"></ul></div>"
   ]
  },
  {
   "cell_type": "markdown",
   "id": "edbef882",
   "metadata": {},
   "source": [
    "<p style=\"font-size:125%; color:#119988; background-color:#EEE\">Задание 1</p>\n",
    "\n",
    "Создайте словарь *food* продуктов питания, ключами которого являются наименования, а значениями цены. Исходные данные для словаря:\n",
    "```\n",
    "titles=('apples,grape,bananas,watermelons,tomatoes'.split(','))\n",
    "prices=(20,25,15,11,15)\n",
    "```"
   ]
  },
  {
   "cell_type": "code",
   "execution_count": 2,
   "id": "7befff06",
   "metadata": {},
   "outputs": [
    {
     "name": "stdout",
     "output_type": "stream",
     "text": [
      "{'apples': 20, 'grape': 25, 'bananas': 15, 'watermelons': 11, 'tomatoes': 15}\n"
     ]
    }
   ],
   "source": [
    "# 1\n",
    "\n",
    "titles=('apples,grape,bananas,watermelons,tomatoes'.split(','))\n",
    "prices=(20,25,15,11,15)\n",
    "\n",
    "food_dict = dict(zip(titles, prices))\n",
    "\n",
    "print(food_dict)\n"
   ]
  },
  {
   "cell_type": "markdown",
   "id": "815e7957",
   "metadata": {},
   "source": [
    "<p style=\"font-size:125%; color:#119988; background-color:#EEE\">Задание 2</p>\n",
    "\n",
    "Удалите из словаря *food* арбузы (watermelons) и добавьте дыни (melons) по той же цене."
   ]
  },
  {
   "cell_type": "code",
   "execution_count": 7,
   "id": "50964e18",
   "metadata": {},
   "outputs": [
    {
     "name": "stdout",
     "output_type": "stream",
     "text": [
      "{'apples': 20, 'grape': 25, 'bananas': 15, 'tomatoes': 15, 'melons': 11}\n"
     ]
    }
   ],
   "source": [
    "# 2\n",
    "food_dict ['watermelons'] = 11\n",
    "food_dict['melons'] = food_dict ['watermelons']\n",
    "del food_dict ['watermelons']\n",
    "\n",
    "print(food_dict)"
   ]
  },
  {
   "cell_type": "markdown",
   "id": "09da5372",
   "metadata": {},
   "source": [
    "<p style=\"font-size:125%; color:#119988; background-color:#EEE\">Задание 3</p>\n",
    "\n",
    "Все цены снижены на 15%. Обновите словарь продуктов."
   ]
  },
  {
   "cell_type": "code",
   "execution_count": 35,
   "id": "b88d99a1",
   "metadata": {},
   "outputs": [],
   "source": [
    "# 3\n",
    "food_dict.update({'apples': 17.0, 'grape': 21.25, 'bananas': 12.75, 'tomatoes': 12.75, 'melons': 9.35})"
   ]
  },
  {
   "cell_type": "markdown",
   "id": "ea04b336",
   "metadata": {},
   "source": [
    "<p style=\"font-size:125%; color:#119988; background-color:#EEE\">Задание 4</p>\n",
    "\n",
    "Поменяйте местами цены и названия, пусть ключами словаря станут цены, а значениями - названия. Изменилось ли при этом количество элементов словаря? Если да, то объясните, почему."
   ]
  },
  {
   "cell_type": "code",
   "execution_count": 43,
   "id": "968cf531",
   "metadata": {},
   "outputs": [
    {
     "name": "stdout",
     "output_type": "stream",
     "text": [
      "{17.0: 'apples', 21.25: 'grape', 12.75: 'tomatoes', 9.35: 'melons'}\n"
     ]
    }
   ],
   "source": [
    "# 4\n",
    "food_dict.clear()\n",
    "food_dict.update({17.0: 'apples', 21.25: 'grape', 12.75: 'bananas', 9.35: 'melons', 12.75: 'tomatoes'})\n",
    "print(food_dict, \"Значений стало меньше т.к значения ключей не повторяются и округляются\")"
   ]
  },
  {
   "cell_type": "markdown",
   "id": "ef49adb3",
   "metadata": {},
   "source": [
    "<p style=\"font-size:125%; color:#119988; background-color:#EEE\">Задание 5</p>\n",
    "\n",
    "Напишите функцию, возвращающую максимальную степень некоторого натурального числа $k$ (например $k=2$), меньшую данного натурального числа $n$. Пусть $k$ и $n$ будут параметрами функции."
   ]
  },
  {
   "cell_type": "code",
   "execution_count": 46,
   "id": "a56f047a",
   "metadata": {},
   "outputs": [
    {
     "name": "stdout",
     "output_type": "stream",
     "text": [
      "3\n"
     ]
    }
   ],
   "source": [
    "# 5\n",
    "def max_step(k, n):\n",
    "    step = 0\n",
    "    while k ** step < n:\n",
    "        step += 1\n",
    "    return step - 1\n",
    "\n",
    "print(max_step(2,10))\n"
   ]
  },
  {
   "cell_type": "markdown",
   "id": "dafc63f5",
   "metadata": {},
   "source": [
    "<p style=\"font-size:125%; color:#119988; background-color:#EEE\">Задание 6</p>\n",
    "\n",
    "Создайте функцию, возвращающую ряд Фибоначчи до определенного натурального числа $n$."
   ]
  },
  {
   "cell_type": "code",
   "execution_count": 47,
   "id": "de7f401f",
   "metadata": {},
   "outputs": [
    {
     "name": "stdout",
     "output_type": "stream",
     "text": [
      "[0, 1, 1, 2, 3, 5, 8, 13, 21, 34, 55, 89]\n"
     ]
    }
   ],
   "source": [
    "# 6\n",
    "def fibonacci(n):\n",
    "    fib = []  \n",
    "    a, b = 0, 1  \n",
    "    while a <= n:\n",
    "        fib.append(a) \n",
    "        a, b = b, a + b \n",
    "    return fib\n",
    "\n",
    "print(fibonacci(100))\n"
   ]
  },
  {
   "cell_type": "markdown",
   "id": "119e660a",
   "metadata": {},
   "source": [
    "<p style=\"font-size:125%; color:#119988; background-color:#EEE\">Задание 7</p>\n",
    "\n",
    "Создайте рекурсивную функцию, возвращающую ряд Фибоначчи до определенного натурального числа $n$."
   ]
  },
  {
   "cell_type": "code",
   "execution_count": 70,
   "id": "31838c27",
   "metadata": {},
   "outputs": [
    {
     "name": "stdout",
     "output_type": "stream",
     "text": [
      "Введите число членов последовательности:5\n",
      "Последовательность Фибоначчи:\n",
      "0\n",
      "1\n",
      "1\n",
      "2\n",
      "3\n"
     ]
    }
   ],
   "source": [
    "#7\n",
    "def fibonacci(n):\n",
    "    if (n <= 1):\n",
    "        return n\n",
    "    else:\n",
    "        return (fibonacci(n-1) + fibonacci(n-2))\n",
    "n = int(input(\"Введите число членов последовательности:\"))\n",
    "print(\"Последовательность Фибоначчи:\")\n",
    "for i in range(n):\n",
    "    print(fibonacci(i))"
   ]
  },
  {
   "cell_type": "markdown",
   "id": "ec8400ea",
   "metadata": {},
   "source": [
    "<p style=\"font-size:125%; color:#119988; background-color:#EEE\">Задание 8</p>\n",
    "\n",
    "Создайте функцию, которая проверяет, является ли число членом ряда Фибоначчи."
   ]
  },
  {
   "cell_type": "code",
   "execution_count": null,
   "id": "a8715c73",
   "metadata": {},
   "outputs": [],
   "source": [
    "# 8\n",
    "\n",
    "def is_fibonacci_number(n):\n",
    "    a = 0\n",
    "    b = 1\n",
    "    while b < n:\n",
    "        a, b = b, a + b\n",
    "    return b == n\n",
    "\n",
    "print(is_fibonacci_number(5))  \n",
    "print(is_fibonacci_number(10))  "
   ]
  },
  {
   "cell_type": "markdown",
   "id": "eed2994e",
   "metadata": {},
   "source": [
    "<p style=\"font-size:125%; color:#119988; background-color:#EEE\">Задание 9</p>\n",
    "\n",
    "Студентка Александра родилась 11 июня 2003 года в 12 часов дня. Рассчитать время в минутах с момента рождения."
   ]
  },
  {
   "cell_type": "code",
   "execution_count": 83,
   "id": "6d81786f",
   "metadata": {},
   "outputs": [
    {
     "name": "stdout",
     "output_type": "stream",
     "text": [
      "Прошло минут с момента рождения: 10742753 \n",
      "День рождения: 2003-06-11 12:00:00 \n",
      "Сегодняшняя дата: 2023-11-13 17:47:47.690912 \n",
      "Разница: 7460 days, 5:53:31.132244\n"
     ]
    }
   ],
   "source": [
    "# 9\n",
    "\n",
    "from datetime import datetime\n",
    "\n",
    "birthday = datetime(2003, 6, 11, 12, 0)\n",
    "time_difference = datetime.now() - birthday\n",
    "minutes_passed = int((time_difference.total_seconds() / 60))\n",
    "\n",
    "print(\"Прошло минут с момента рождения:\", minutes_passed, \"\\nДень рождения:\", birthday, \"\\nСегодняшняя дата:\", current_time, \"\\nРазница:\", time_difference)"
   ]
  },
  {
   "cell_type": "code",
   "execution_count": 81,
   "id": "d2c49007",
   "metadata": {},
   "outputs": [
    {
     "name": "stdout",
     "output_type": "stream",
     "text": [
      "6242030\n"
     ]
    }
   ],
   "source": []
  },
  {
   "cell_type": "code",
   "execution_count": null,
   "id": "eb00951b",
   "metadata": {},
   "outputs": [],
   "source": []
  }
 ],
 "metadata": {
  "kernelspec": {
   "display_name": "Python 3 (ipykernel)",
   "language": "python",
   "name": "python3"
  },
  "language_info": {
   "codemirror_mode": {
    "name": "ipython",
    "version": 3
   },
   "file_extension": ".py",
   "mimetype": "text/x-python",
   "name": "python",
   "nbconvert_exporter": "python",
   "pygments_lexer": "ipython3",
   "version": "3.11.4"
  },
  "toc": {
   "base_numbering": 1,
   "nav_menu": {},
   "number_sections": true,
   "sideBar": true,
   "skip_h1_title": false,
   "title_cell": "Table of Contents",
   "title_sidebar": "Contents",
   "toc_cell": true,
   "toc_position": {},
   "toc_section_display": true,
   "toc_window_display": false
  },
  "varInspector": {
   "cols": {
    "lenName": 16,
    "lenType": 16,
    "lenVar": 40
   },
   "kernels_config": {
    "python": {
     "delete_cmd_postfix": "",
     "delete_cmd_prefix": "del ",
     "library": "var_list.py",
     "varRefreshCmd": "print(var_dic_list())"
    },
    "r": {
     "delete_cmd_postfix": ") ",
     "delete_cmd_prefix": "rm(",
     "library": "var_list.r",
     "varRefreshCmd": "cat(var_dic_list()) "
    }
   },
   "types_to_exclude": [
    "module",
    "function",
    "builtin_function_or_method",
    "instance",
    "_Feature"
   ],
   "window_display": false
  }
 },
 "nbformat": 4,
 "nbformat_minor": 5
}
