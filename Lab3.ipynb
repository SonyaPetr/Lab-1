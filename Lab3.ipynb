{
 "cells": [
  {
   "cell_type": "markdown",
   "metadata": {
    "toc": true
   },
   "source": [
    "<h1>Table of Contents<span class=\"tocSkip\"></span></h1>\n",
    "<div class=\"toc\"><ul class=\"toc-item\"><li><span><a href=\"#Тема-3.-Функции\" data-toc-modified-id=\"Тема-3.-Функции-1\"><span class=\"toc-item-num\">1&nbsp;&nbsp;</span>Тема 3. Функции</a></span></li><li><span><a href=\"#Задания\" data-toc-modified-id=\"Задания-2\"><span class=\"toc-item-num\">2&nbsp;&nbsp;</span>Задания</a></span></li></ul></div>"
   ]
  },
  {
   "cell_type": "markdown",
   "metadata": {},
   "source": [
    "\n",
    "# Тема 3. Функции"
   ]
  },
  {
   "cell_type": "markdown",
   "metadata": {},
   "source": [
    "# Задания\n",
    "\n",
    "Выполните задания\n",
    "\n"
   ]
  },
  {
   "cell_type": "markdown",
   "metadata": {},
   "source": [
    "1. Имеется список из 20 случайных чисел от 0 до 100. Напишите функцию, которая разбивает этот список на $n$ списков по $k$ элементов и включает все эти списки в новый список. Используйте $k$ в качестве параметра функции.\n",
    "\n",
    "2. Напишите функцию, вычисляющую факториал числа, передаваемого в качестве параметра.\n",
    "\n",
    "3. Написать функцию умножения, принимающую от одного до трех параметров. Функцию вызвать с приведенными ниже аргументами. Для случая a4 выбрать 3 первых и 3 последних значения.\n",
    "```\n",
    "a1 = (15, 10 ,5)\n",
    "a2 = (3, 1)\n",
    "a3 = [2, 35, 55]\n",
    "a4 = (5, 10 ,15, 20)\n",
    "```\n",
    "\n",
    "4. Напишите функцию, которая для заданного радиуса r вычисляет площадь круга и длину окружности. Функция возвращает кортеж из 2 значений.\n",
    "\n",
    "5. Реализовать функции для выполнения четырех арифметических операций, преобразующих целые числа в целое число. Создать словарь с функциями исоответствующими им симв олами операций. Для двух заранее заданных целых чисел (например, 25 и 4) выполнить выбранную пользователем арифметическую операцию.\n",
    "\n",
    "6. Написать калькулятор для строковых выражений вида '<число> <операция> <число>', где <число> - целое число, например 113, <арифметическая операция> - одна из операций `+,-,*,//,%,^`. Пример: `calc('13 - 5') -> 8`\n",
    "\n",
    "7. Написать функцию, которая преобразует целое число (от 0 до 999) из текстового представления на русском языке в число типа int. Пример: `to_int('тридцать три') -> 33`\n",
    "\n",
    "8. Написать функцию, которая преобразует целое число (от 0 до 999) из текстового представления на русском языке в число типа int. И сообщает об ошибках (выводит на экран описание типа ошибки и возвращает число -1). Пример: to_int('тридцать три') -> 33 Пример: to_int(\"сто сорок тридцать два сто\") -> -1 Вывод: тридцать - некорректное расположение в числе."
   ]
  },
  {
   "cell_type": "markdown",
   "metadata": {},
   "source": [
    "#### Имеется список из 20 случайных чисел от 0 до 100. Напишите функцию, которая разбивает этот список на  𝑛 списков по  𝑘 элементов и включает все эти списки в новый список. Используйте  𝑘 в качестве параметра функции"
   ]
  },
  {
   "cell_type": "code",
   "execution_count": 5,
   "metadata": {},
   "outputs": [
    {
     "name": "stdout",
     "output_type": "stream",
     "text": [
      "[[12, 34, 56, 78, 90], [23, 45, 67, 89, 10], [32, 54, 76, 98, 21], [43, 65, 87, 9, 31]]\n"
     ]
    }
   ],
   "source": [
    "def split_list(lst, k):\n",
    "    return [lst[i:i+k] for i in range(0, len(lst), k)]\n",
    "\n",
    "\n",
    "random_numbers = [12, 34, 56, 78, 90, 23, 45, 67, 89, 10, 32, 54, 76, 98, 21, 43, 65, 87, 9, 31]\n",
    "n = 4 \n",
    "k = 5 \n",
    "\n",
    "result = split_list(random_numbers, k)\n",
    "print(result)"
   ]
  },
  {
   "cell_type": "markdown",
   "metadata": {},
   "source": [
    "#### Напишите функцию, вычисляющую факториал числа, передаваемого в качестве параметра."
   ]
  },
  {
   "cell_type": "code",
   "execution_count": 4,
   "metadata": {},
   "outputs": [
    {
     "name": "stdout",
     "output_type": "stream",
     "text": [
      "5 * 4 * 3 * 2 * 1  = 120\n"
     ]
    }
   ],
   "source": [
    "def factorial(n):\n",
    "    if n == 0:\n",
    "        return 1\n",
    "    else:\n",
    "        print(n, \"* \" if n>1 else \" = \", end = \"\") \n",
    "        return n * factorial(n-1)\n",
    "        \n",
    "result = factorial(5)\n",
    "print(result)"
   ]
  },
  {
   "cell_type": "markdown",
   "metadata": {},
   "source": [
    "#### Написать функцию умножения, принимающую от одного до трех параметров. Функцию вызвать с приведенными ниже аргументами. Для случая a4 выбрать 3 первых и 3 последних значения.\n",
    "\n",
    "a1 = (15, 10 ,5)\n",
    "a2 = (3, 1)\n",
    "a3 = [2, 35, 55]\n",
    "a4 = (5, 10 ,15, 20)"
   ]
  },
  {
   "cell_type": "code",
   "execution_count": 3,
   "metadata": {},
   "outputs": [
    {
     "name": "stdout",
     "output_type": "stream",
     "text": [
      "750\n",
      "3\n",
      "3850\n",
      "2250000\n"
     ]
    }
   ],
   "source": [
    "def multiply(*args):\n",
    "    result = 1\n",
    "    for num in args:\n",
    "        result *= num\n",
    "    return result\n",
    "\n",
    "a1 = (15, 10, 5)\n",
    "print(multiply(*a1)) \n",
    "\n",
    "a2 = (3, 1)\n",
    "print(multiply(*a2))  \n",
    "\n",
    "a3 = [2, 35, 55]\n",
    "print(multiply(*a3))  \n",
    "\n",
    "a4 = (5, 10, 15, 20)\n",
    "subset = a4[:3] + a4[-3:]\n",
    "print(multiply(*subset))  "
   ]
  },
  {
   "cell_type": "markdown",
   "metadata": {},
   "source": [
    "#### Напишите функцию, которая для заданного радиуса r вычисляет площадь круга и длину окружности. Функция возвращает кортеж из 2 значений."
   ]
  },
  {
   "cell_type": "code",
   "execution_count": 2,
   "metadata": {},
   "outputs": [
    {
     "name": "stdout",
     "output_type": "stream",
     "text": [
      "(50.26548245743669, 25.132741228718345)\n"
     ]
    }
   ],
   "source": [
    "import math\n",
    "\n",
    "def calculate(r):\n",
    "    area = math.pi * r**2\n",
    "    circumference = 2 * math.pi * r\n",
    "    return (area, circumference)\n",
    "\n",
    "print (calculate(4))"
   ]
  },
  {
   "cell_type": "markdown",
   "metadata": {},
   "source": [
    "#### Реализовать функции для выполнения четырех арифметических операций, преобразующих целые числа в целое число. Создать словарь с функциями исоответствующими им симв олами операций. Для двух заранее заданных целых чисел (например, 25 и 4) выполнить выбранную пользователем арифметическую операцию."
   ]
  },
  {
   "cell_type": "code",
   "execution_count": 9,
   "metadata": {},
   "outputs": [
    {
     "name": "stdout",
     "output_type": "stream",
     "text": [
      "Выберите операцию (+, -, *, /): -\n",
      "Результат: 21\n"
     ]
    }
   ],
   "source": [
    "def add(a, b):\n",
    "    return a + b\n",
    "\n",
    "def subtract(a, b):\n",
    "    return a - b\n",
    "\n",
    "def multiply(a, b):\n",
    "    return a * b\n",
    "\n",
    "def divide(a, b):\n",
    "    if b != 0:\n",
    "        return a / b\n",
    "    else:\n",
    "        return \"Ошибка: деление на ноль!\"\n",
    "\n",
    "operations = {\n",
    "    '+': add,\n",
    "    '-': subtract,\n",
    "    '*': multiply,\n",
    "    '/': divide\n",
    "}\n",
    "\n",
    "num1 = 25\n",
    "num2 = 4\n",
    "\n",
    "operation = input(\"Выберите операцию (+, -, *, /) для 25 и 4: \")\n",
    "\n",
    "if operation in operations:\n",
    "    result = operations[operation](num1, num2)\n",
    "    print(\"Результат:\", result)\n",
    "else:\n",
    "    print(\"Неверная операция!\")\n"
   ]
  },
  {
   "cell_type": "markdown",
   "metadata": {},
   "source": [
    "#### Написать калькулятор для строковых выражений вида '<число> <операция> <число>', где <число> - целое число, например 113, <арифметическая операция> - одна из операций `+,-,*,//,%,^`. Пример: `calc('13 - 5') -> 8`"
   ]
  },
  {
   "cell_type": "code",
   "execution_count": 8,
   "metadata": {},
   "outputs": [
    {
     "name": "stdout",
     "output_type": "stream",
     "text": [
      "3 +2\n",
      "5\n"
     ]
    }
   ],
   "source": [
    "def calc(expr):\n",
    "    return eval(expr)\n",
    "\n",
    "print(calc(input()))"
   ]
  },
  {
   "cell_type": "markdown",
   "metadata": {},
   "source": [
    "#### Написать функцию, которая преобразует целое число (от 0 до 999) из текстового представления на русском языке в число типа int. Пример: `to_int('тридцать три') -> 33`"
   ]
  },
  {
   "cell_type": "markdown",
   "metadata": {},
   "source": [
    "#### Написать функцию, которая преобразует целое число (от 0 до 999) из текстового представления на русском языке в число типа int. И сообщает об ошибках (выводит на экран описание типа ошибки и возвращает число -1). Пример: to_int('тридцать три') -> 33 Пример: to_int(\"сто сорок тридцать два сто\") -> -1 Вывод: тридцать - некорректное расположение в числе."
   ]
  },
  {
   "cell_type": "code",
   "execution_count": 21,
   "metadata": {},
   "outputs": [
    {
     "name": "stdout",
     "output_type": "stream",
     "text": [
      "49\n"
     ]
    }
   ],
   "source": [
    "def to_int(text):\n",
    "    numbers = {\n",
    "        'ноль': 0,\n",
    "        'один': 1,\n",
    "        'два': 2,\n",
    "        'три': 3,\n",
    "        'четыре': 4,\n",
    "        'пять': 5,\n",
    "        'шесть': 6,\n",
    "        'семь': 7,\n",
    "        'восемь': 8,\n",
    "        'девять': 9,\n",
    "        'десять': 10,\n",
    "        'одиннадцать': 11,\n",
    "        'двенадцать': 12,\n",
    "        'тринадцать': 13,\n",
    "        'четырнадцать': 14,\n",
    "        'пятнадцать': 15,\n",
    "        'шестнадцать': 16,\n",
    "        'семнадцать': 17,\n",
    "        'восемнадцать': 18,\n",
    "        'девятнадцать': 19,\n",
    "        'двадцать': 20,\n",
    "        'тридцать': 30,\n",
    "        'сорок': 40,\n",
    "        'пятьдесят': 50,\n",
    "        'шестьдесят': 60,\n",
    "        'семьдесят': 70,\n",
    "        'восемьдесят': 80,\n",
    "        'девяносто': 90,\n",
    "        'сто': 100,\n",
    "        'двести': 200,\n",
    "        'триста': 300,\n",
    "        'четыреста': 400,\n",
    "        'пятьсот': 500,\n",
    "        'шестьсот': 600,\n",
    "        'семьсот': 700,\n",
    "        'восемьсот': 800,\n",
    "        'девятьсот': 900\n",
    "    }\n",
    "    \n",
    "    result = 0\n",
    "    parts = text.split()\n",
    "    \n",
    "    for i in range(len(parts)):\n",
    "        if parts[i] in numbers:\n",
    "            if i > 0 and parts[i-1] in numbers and numbers[parts[i-1]] < numbers[parts[i]]:\n",
    "                result += numbers[parts[i]] - 2 * numbers[parts[i-1]]\n",
    "            else:\n",
    "                result += numbers[parts[i]]\n",
    "    \n",
    "    return result\n",
    "\n",
    "print(to_int('пятьдесят'))"
   ]
  },
  {
   "cell_type": "code",
   "execution_count": null,
   "metadata": {},
   "outputs": [],
   "source": []
  },
  {
   "cell_type": "code",
   "execution_count": null,
   "metadata": {},
   "outputs": [],
   "source": []
  }
 ],
 "metadata": {
  "kernelspec": {
   "display_name": "Python 3 (ipykernel)",
   "language": "python",
   "name": "python3"
  },
  "language_info": {
   "codemirror_mode": {
    "name": "ipython",
    "version": 3
   },
   "file_extension": ".py",
   "mimetype": "text/x-python",
   "name": "python",
   "nbconvert_exporter": "python",
   "pygments_lexer": "ipython3",
   "version": "3.11.4"
  },
  "toc": {
   "base_numbering": 1,
   "nav_menu": {},
   "number_sections": true,
   "sideBar": true,
   "skip_h1_title": false,
   "title_cell": "Table of Contents",
   "title_sidebar": "Contents",
   "toc_cell": true,
   "toc_position": {},
   "toc_section_display": true,
   "toc_window_display": false
  },
  "varInspector": {
   "cols": {
    "lenName": 16,
    "lenType": 16,
    "lenVar": 40
   },
   "kernels_config": {
    "python": {
     "delete_cmd_postfix": "",
     "delete_cmd_prefix": "del ",
     "library": "var_list.py",
     "varRefreshCmd": "print(var_dic_list())"
    },
    "r": {
     "delete_cmd_postfix": ") ",
     "delete_cmd_prefix": "rm(",
     "library": "var_list.r",
     "varRefreshCmd": "cat(var_dic_list()) "
    }
   },
   "types_to_exclude": [
    "module",
    "function",
    "builtin_function_or_method",
    "instance",
    "_Feature"
   ],
   "window_display": false
  }
 },
 "nbformat": 4,
 "nbformat_minor": 4
}
