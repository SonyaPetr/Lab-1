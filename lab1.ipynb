{
 "cells": [
  {
   "cell_type": "markdown",
   "metadata": {
    "id": "cx7XKT4bnkp4"
   },
   "source": [
    "## 1.1. Работа с числами. Базовые числовые типы int и float"
   ]
  },
  {
   "cell_type": "code",
   "execution_count": null,
   "metadata": {
    "id": "Dt6qwKecoE3r"
   },
   "outputs": [],
   "source": [
    "# Значения переменных А и В ввести с клавиатуры и вывести на экран. После этого\n",
    "# значения меняются местами, т.е. A нужно присвоить значение B, а B – значение A,\n",
    "# и вновь значения переменных вывести на экран.\n",
    "A = input()\n",
    "print (\"A = \", A)\n",
    "B = input()\n",
    "print (\"B = \", B)\n",
    "AB = A\n",
    "A = B\n",
    "B = AB\n",
    "print (\"B =\", B, \", A = \", A)"
   ]
  },
  {
   "cell_type": "code",
   "execution_count": null,
   "metadata": {
    "colab": {
     "base_uri": "https://localhost:8080/"
    },
    "id": "0BrpS17ZqzGD",
    "outputId": "e7c64f4a-a822-4b23-f3ff-a24cba9bec1f"
   },
   "outputs": [
    {
     "name": "stdout",
     "output_type": "stream",
     "text": [
      "0.5\n",
      "1.266\n"
     ]
    }
   ],
   "source": [
    "# Значение x вводится с клавиатуры. Вычислите  y=(x+1)2⋅x3+1−−−−−√  Выведите на экран значения  x  и  y  с тремя знаками после запятой.\n",
    "x = float(input())\n",
    "\n",
    "y = ((x+1)**2)*((x**3+1)**1/2)\n",
    "print (round(y, 3))"
   ]
  },
  {
   "cell_type": "code",
   "execution_count": null,
   "metadata": {
    "id": "Oj5EV7NouVfs"
   },
   "outputs": [],
   "source": [
    "# Вычислите сумму цифр пятизначного числа.\n",
    "\n",
    "number = int(input())\n",
    "a = number%10\n",
    "number = number//10\n",
    "b = number%10\n",
    "number = number//10\n",
    "c = number%10\n",
    "number = number//10\n",
    "d = number%10\n",
    "number = number//10\n",
    "e = number\n",
    "print(a+b+c+d+e)"
   ]
  },
  {
   "cell_type": "code",
   "execution_count": null,
   "metadata": {
    "id": "9Kx3eulfulA4"
   },
   "outputs": [],
   "source": [
    "# Для заданного трехзначного числа выведите число, у которого цифры идут в обратном порядке, например, для числа 123 ответ 321.\n",
    "\n",
    "number = 567\n",
    "reversed_number = 0\n",
    "\n",
    "while number != 0:\n",
    "    digit = number % 10\n",
    "    reversed_number = reversed_number * 10 + digit\n",
    "    number //= 10\n",
    "\n",
    "print(\"Перевёрнутое число:\", reversed_number)\n"
   ]
  },
  {
   "cell_type": "code",
   "execution_count": null,
   "metadata": {
    "id": "YqumRpsDuqQO"
   },
   "outputs": [],
   "source": [
    "# Ввести координаты 2 точек:  (x1,y1)  и  (x2,y2) . Вычислите расстояние между этими точками. Результат выведите с 5 знаками после запятой.\n",
    "\n",
    "import math\n",
    "\n",
    "x1 = float(input(\"Введите x1: \"))\n",
    "y1 = float(input(\"Введите y1: \"))\n",
    "x2 = float(input(\"Введите x2: \"))\n",
    "y2 = float(input(\"Введите y2: \"))\n",
    "\n",
    "distance = math.sqrt((x2-x1)**2 + (y2-y1)**2)\n",
    "\n",
    "print(\"Расстояние между точками: \", distance)"
   ]
  },
  {
   "cell_type": "code",
   "execution_count": null,
   "metadata": {
    "id": "Dwdb2GSgu-Tf"
   },
   "outputs": [],
   "source": [
    "# Разработать программу вычисления по известному радиусу площади круга и длины окружности.\n",
    "\n",
    "import math\n",
    "\n",
    "r = int(input(\"Введите радиус круга: \"))\n",
    "Area = math.pi * r\n",
    "perimeter = 2 * math.pi * r\n",
    "print(\"Площадь круга:\", Area)\n",
    "print(\"Длина окружности:\", perimeter)"
   ]
  },
  {
   "cell_type": "code",
   "execution_count": null,
   "metadata": {
    "id": "SPxAztcRvNoJ"
   },
   "outputs": [],
   "source": [
    "# Разработать программу вычисления объема шара: а) по радиусу; б) по длине его экваториальной параллели. Объём шара рассчитывается по формуле  V=4/3πr^3 , где  r  - радиус.\n",
    "\n",
    "import math\n",
    "\n",
    "r = int(input())\n",
    "V = 4/3*math.pi*r**3\n",
    "print (\"Объем шара по радиусу: \", V)"
   ]
  },
  {
   "cell_type": "code",
   "execution_count": null,
   "metadata": {
    "id": "akkHIK89vPzF"
   },
   "outputs": [],
   "source": [
    "# Имеются два  n –мерных вектора  x  и  y , которые задают координаты  n  точек на плоскости (случайные целые числа). Найти наиболее близкие друг другу точки.\n",
    "\n",
    "import random\n",
    "import math\n",
    "\n",
    "def find_closest_points(x, y):\n",
    "    min_distance = math.inf\n",
    "    closest_points = []\n",
    "\n",
    "    for point_1 in x:\n",
    "        for point_2 in y:\n",
    "            distance = calculate_distance(point_1, point_2)\n",
    "            if distance < min_distance:\n",
    "                min_distance = distance\n",
    "                closest_points = [point_1, point_2]\n",
    "\n",
    "    return closest_points\n",
    "\n",
    "def calculate_distance(point_1, point_2):\n",
    "    distance = 0\n",
    "    for i in range(len(point_1)):\n",
    "        distance += (point_1[i] - point_2[i]) ** 2\n",
    "\n",
    "    return math.sqrt(distance)\n",
    "\n",
    "\n",
    "n = 2\n",
    "num_points = 5\n",
    "\n",
    "x = [[random.randint(0, 9) for _ in range(n)] for _ in range(num_points)]\n",
    "y = [[random.randint(0, 9) for _ in range(n)] for _ in range(num_points)]\n",
    "\n",
    "closest_points = find_closest_points(x, y)\n",
    "print(\"Наиболее близкие точки:\")\n",
    "print(\"x:\", closest_points[0])\n",
    "print(\"y:\", closest_points[1])\n",
    "\n"
   ]
  },
  {
   "cell_type": "code",
   "execution_count": 7,
   "metadata": {
    "colab": {
     "base_uri": "https://localhost:8080/"
    },
    "id": "56Pwt9oTvTdE",
    "outputId": "a67f1d2a-2b7d-4366-c8f2-44857e8e870a"
   },
   "outputs": [
    {
     "name": "stdout",
     "output_type": "stream",
     "text": [
      "Координаты первой вершины\n",
      "1.2 2\n",
      "Координаты второй вершины\n",
      "3.3 2\n",
      "Координаты третьей вершины\n",
      "2.1 0\n",
      "Площадь:  2.0999999999999996 Периметр:  6.625551977884251\n"
     ]
    }
   ],
   "source": [
    "# Треугольник задан координатами своих вершин:  (x1,y1),(x2,y2),(x3,y3) . Значения координат определите с помощью присваивания.\n",
    "# Они могут быть нецелыми. Найти периметр и площадь треугольника.\n",
    "\n",
    "from math import sqrt\n",
    "print ('Координаты первой вершины')\n",
    "x1,y1=map(float,input().split())\n",
    "print ('Координаты второй вершины')\n",
    "x2,y2=map(float,input().split())\n",
    "print ('Координаты третьей вершины')\n",
    "x3,y3=map(float,input().split())\n",
    "a=sqrt((x2-x1)**2+(y2-y1)**2)\n",
    "b=sqrt((x3-x2)**2+(y3-y2)**2)\n",
    "c=sqrt((x1-x3)**2+(y1-y3)**2)\n",
    "p=(a+b+c)/2.0\n",
    "s=sqrt(p*(p-a)*(p-b)*(p-c))\n",
    "print ('Площадь: ', s,'Периметр: ', (a+b+c))"
   ]
  },
  {
   "cell_type": "code",
   "execution_count": null,
   "metadata": {
    "id": "7tdCpchxvYDd"
   },
   "outputs": [],
   "source": [
    "# Пусть пользователь вводит 5 чисел: а, b, c, d, e. Реализуйте программу расчета выражения вида\n",
    "# res=a+bc2d−e+Ost[be/c] , где  Ost  - остаток от деления. Учесть невозможность деления на 0.\n",
    "\n",
    "a = float(input(\"Введите число a: \"))\n",
    "b = float(input(\"Введите число b: \"))\n",
    "c = float(input(\"Введите число c: \"))\n",
    "d = float(input(\"Введите число d: \"))\n",
    "e = float(input(\"Введите число e: \"))\n",
    "\n",
    "if c == 0 or (2 * d - e) == 0:\n",
    "    print(\"Деление на 0 невозможно!\")\n",
    "else:\n",
    "    res = (a + b * c) / (2 * d - e) + (b ** e) % c\n",
    "    print(\"Результат выражения: \", res)"
   ]
  },
  {
   "cell_type": "markdown",
   "metadata": {
    "id": "_cuU6XcDtY8E"
   },
   "source": [
    "## 1.2. Строки, функции и методы работы со строками"
   ]
  },
  {
   "cell_type": "code",
   "execution_count": 14,
   "metadata": {
    "colab": {
     "base_uri": "https://localhost:8080/"
    },
    "id": "KZits8DytrN4",
    "outputId": "e0ba887f-b0ad-47ad-a5b4-29007966cac0"
   },
   "outputs": [
    {
     "name": "stdout",
     "output_type": "stream",
     "text": [
      "Введите число: 123\n",
      "Тип строка -  <class 'str'> 123\n",
      "Тип целое число -  <class 'str'> 123\n",
      "Тип число с плавающей точкой -  <class 'str'> 123\n"
     ]
    }
   ],
   "source": [
    "# 1. Введите строку, состоящую из двух цифр. Преобразуйте ее в целое и вещественное число.\n",
    "# Выведите полученные три значения (строку, целое число, вещественное число) на экран в одной\n",
    "# строке через запятую, затем пропустите строку и вновь выведите значения по одному на строке.\n",
    "# Перед каждым значением выведите его тип.\n",
    "\n",
    "tex = input(\"Введите число: \", )\n",
    "a = int(tex)\n",
    "\n",
    "print(\"Тип строка - \", type(tex), tex)\n",
    "int(tex)\n",
    "print(\"Тип целое число - \", type(tex), tex)\n",
    "float(tex)\n",
    "print(\"Тип число с плавающей точкой - \", type(tex), tex)\n",
    "\n"
   ]
  },
  {
   "cell_type": "code",
   "execution_count": 2,
   "metadata": {
    "id": "4Q4E005Ft9rv"
   },
   "outputs": [
    {
     "name": "stdout",
     "output_type": "stream",
     "text": [
      "Финан Финан\n"
     ]
    }
   ],
   "source": [
    "# 2. Для строки 'Финансовый университет' двумя способами получить подстроку с 1-го по 4-й символы включительно.\n",
    "\n",
    "S = 'Финансовый университет'\n",
    "S1 = S[0:5]\n",
    "S2 = S[:-17]\n",
    "\n",
    "print (S1, S2)"
   ]
  },
  {
   "cell_type": "code",
   "execution_count": null,
   "metadata": {
    "id": "s1p5lPMjuAM2"
   },
   "outputs": [],
   "source": [
    "#3. Составить строку из всех четных символов строки 'Финансовый университет'.\n",
    "\n",
    "S = 'Финансовый университет'\n",
    "\n",
    "print([S[i] for i in range(1, len(S), 2)])\n",
    "print([S])\n"
   ]
  },
  {
   "cell_type": "code",
   "execution_count": 5,
   "metadata": {
    "id": "o9komxG6uC1y"
   },
   "outputs": [
    {
     "name": "stdout",
     "output_type": "stream",
     "text": [
      "введите строку: gddjhsvjsfb\n",
      "jhsv\n"
     ]
    }
   ],
   "source": [
    "#4. Получить подстроку неизвестной заранее строки, содержащую половину символов строки и расположенную посередине строки.\n",
    "\n",
    "s = input(\"введите строку: \", )\n",
    "length = len(s)\n",
    "half_length = length // 4\n",
    "mid_index = length // 2\n",
    "substring = s[mid_index - half_length: mid_index + half_length]\n",
    "print(substring)\n"
   ]
  },
  {
   "cell_type": "code",
   "execution_count": 2,
   "metadata": {
    "id": "SVJ7NKY7uFLH"
   },
   "outputs": [
    {
     "name": "stdout",
     "output_type": "stream",
     "text": [
      "onetwo\n"
     ]
    }
   ],
   "source": [
    "#5. Коротко записать создание строки 'oneoneoneoneoneonetwotwotwo'\n",
    "\n",
    "S = \"oneoneoneoneoneonetwotwotwo\"\n",
    "\n",
    "while \"oneone\" in S:\n",
    "    S = S.replace('oneone', 'one')\n",
    "\n",
    "S = S.replace('twotwo', '')\n",
    "    \n",
    "print(S)\n"
   ]
  },
  {
   "cell_type": "code",
   "execution_count": 33,
   "metadata": {
    "id": "GFpPmhTCuHWW"
   },
   "outputs": [],
   "source": [
    "#6. Для введенной строки выведите (на отдельной строке):\n",
    "#- второй символ этой строки;\n",
    "#- предпоследний символ этой строки;\n",
    "#- всю строку, кроме последних двух символов;\n",
    "#- все символы с четными индексами (считая, что индексация начинается с 0, поэтому символы выводятся, начиная с первого);\n",
    "#- все символы с нечетными индексами, то есть начиная со второго символа строки;\n",
    "#- все символы в обратном порядке;\n",
    "#- все символы строки через один в обратном порядке, начиная с последнего;\n",
    "#- длину данной строки.\n",
    "\n",
    "string = input(\"Введите строку: \")\n",
    "\n",
    "second_char = string[1]\n",
    "second_last_char = string[-2]\n",
    "all_but_last_two_chars = string[:-2]\n",
    "even_index_chars = string[::2]\n",
    "odd_index_chars = string[1::2]\n",
    "reverse_string = string[::-1]\n",
    "reverse_every_other_char = string[::-2]\n",
    "string_length = len(string)\n",
    "\n",
    "print(\"Второй символ строки: \", second_char)\n",
    "print(\"Предпоследний символ строки: \", second_last_char)\n",
    "print(\"Строка без последних двух символов: \", all_but_last_two_chars)\n",
    "print(\"Символы с четными индексами: \", even_index_chars)\n",
    "print(\"Символы с нечетными индексами: \", odd_index_chars)\n",
    "print(\"Строка в обратном порядке: \", reverse_string)\n",
    "print(\"Символы строки через один в обратном порядке: \", reverse_every_other_char)\n",
    "print(\"Длина строки: \", string_length)\n"
   ]
  },
  {
   "cell_type": "code",
   "execution_count": 55,
   "metadata": {
    "id": "xF0D0mHPuJsN"
   },
   "outputs": [
    {
     "name": "stdout",
     "output_type": "stream",
     "text": [
      "Индекс символа *: 25\n"
     ]
    }
   ],
   "source": [
    "#7. Не используя метод count, для заданной строки выполните:\n",
    "#- если символ * в данной строке отсутствует, выведите текст «нет символа»;\n",
    "#- если символ * встречается в строке только один раз, выведите его индекс;\n",
    "#- если символ * встречается два и более раз, выведите индекс его первого, второго и последнего вхождения, удалите первый и последний символ * из строки.\n",
    "\n",
    "s = \"Пример строки с символом *\"\n",
    "\n",
    "first_index = s.find('*')\n",
    "last_index = s.rfind('*')\n",
    "\n",
    "if first_index == -1:\n",
    "    print(\"нет символа\")\n",
    "elif first_index == last_index:\n",
    "    print(\"Индекс символа *:\", first_index)\n",
    "else:\n",
    "    print(\"Индексы символа *:\", first_index, last_index)\n",
    "    s = s.replace('*', '', 1)  # Удаляем первое вхождение *\n",
    "    s = s[::-1].replace('*', '', 1)[::-1]  # Удаляем последнее вхождение *\n",
    "    print(\"Строка после удаления первого и последнего символа *:\", s)"
   ]
  },
  {
   "cell_type": "code",
   "execution_count": null,
   "metadata": {},
   "outputs": [],
   "source": []
  },
  {
   "cell_type": "code",
   "execution_count": 58,
   "metadata": {
    "id": "-9A--0tduL9-"
   },
   "outputs": [
    {
     "name": "stdout",
     "output_type": "stream",
     "text": [
      "дАНАСТРОКА,СОСТОЯЩАЯИЗСЛОВ,РАЗДЕЛЕННЫХПРОБЕЛАМИ.\n",
      "1\n"
     ]
    }
   ],
   "source": [
    "#8. Дана строка, состоящая из слов, разделенных пробелами. В этой строке:\n",
    "#- удалите все лишние пробелы (в начале, в конце, между словами оставить ровно один пробел);\n",
    "#- поменяйте регистр символов (строчные сделать прописными, прописные – строчными);\n",
    "#- определите, сколько в ней слов.\n",
    "\n",
    "string = \" Дана  строка, состоящая  из слов, разделенных   пробелами. \"\n",
    "\n",
    "# Удаление лишних пробелов\n",
    "string = ''.join(string.split())\n",
    "\n",
    "# Изменение регистра символов\n",
    "string = string.swapcase()\n",
    "\n",
    "# Определение количества слов\n",
    "word_count = len(string.split())\n",
    "print(string)\n",
    "# вывод: дАНА СТРОКА, СОСТОЯЩАЯ ИЗ СЛОВ, РАЗДЕЛЕННЫХ ПРОБЕЛАМИ.\n",
    "\n",
    "print(word_count)"
   ]
  },
  {
   "cell_type": "code",
   "execution_count": 34,
   "metadata": {
    "id": "lekmb2jwuTgc"
   },
   "outputs": [
    {
     "name": "stdout",
     "output_type": "stream",
     "text": [
      "Введите Фамилию Имя Отчество: \n",
      "Птр Птр Птр\n",
      "Фамилия\t\t Птр \n",
      "Имя\t\t Птр \n",
      "Отчество\t Птр\n"
     ]
    }
   ],
   "source": [
    "#9. Строка содержит фамилию, имя и отчество, записанные через пробелы. Например «Иванов Иван Иванович». Для этой строки:\n",
    "#- выведите информацию в виде:\n",
    "#```\n",
    "#Фамилия       Иванов\n",
    "#Имя           Иван\n",
    "#Отчество      Иванович\n",
    "#```\n",
    "#- получите строки вида «Иванов И.И.» и «И.И. Иванов».\n",
    "print(\"Введите Фамилию Имя Отчество: \")\n",
    "Fam, N, O =map(str, input().split())\n",
    "\n",
    "print(\"Фамилия\\t\\t\", Fam,\"\\nИмя\\t\\t\", N ,\"\\nОтчество\\t\", O)\n"
   ]
  },
  {
   "cell_type": "code",
   "execution_count": 27,
   "metadata": {
    "id": "8QQglJzuuXQb"
   },
   "outputs": [
    {
     "name": "stdout",
     "output_type": "stream",
     "text": [
      " /\\_/\\\n",
      " /@ @\\\n",
      "(~~0~~)      meow\n"
     ]
    }
   ],
   "source": [
    "#10. Напишите программу, которая осуществляет вывод кошки на экран. Примечание: кошка выглядят примерно так:\n",
    "#```\n",
    "#         /\\_/\\\n",
    "#         /@ @\\\n",
    "#        (~~0~~)\n",
    "\n",
    "# ```\n",
    "\n",
    "print(\" /\\\\_/\\\\\")\n",
    "print(\" /@ @\\\\\")\n",
    "print(\"(~~0~~)      meow\")"
   ]
  },
  {
   "cell_type": "code",
   "execution_count": null,
   "metadata": {
    "id": "_Z9KIiNhuacB"
   },
   "outputs": [],
   "source": []
  },
  {
   "cell_type": "code",
   "execution_count": 21,
   "metadata": {
    "id": "jR0Vh430uai2"
   },
   "outputs": [
    {
     "name": "stdout",
     "output_type": "stream",
     "text": [
      "Введите что-нибудь: Привет\n",
      "Введите что-нибудь похожее: Привет МИр\n",
      "Строки разные (без учета регистра)\n"
     ]
    }
   ],
   "source": [
    "#11. Для двух произвольных строк провести сравнение на совпадение содержимого без учета регистра букв и начальных и конечных пробельных символов. Например, для двух строк ' HeLLO WOrlD' и 'hello WORLD ' такое сравнение должно возвращать True (содержание строк совпадает).\n",
    "\n",
    "string1 = input(\"Введите что-нибудь: \", )\n",
    "string2 = input(\"Введите что-нибудь похожее: \", )\n",
    "\n",
    "if string1.lower() == string2.lower():\n",
    "    print(\"Строки одинаковые (без учета регистра)\")\n",
    "else:\n",
    "    print(\"Строки разные (без учета регистра)\")\n"
   ]
  },
  {
   "cell_type": "code",
   "execution_count": 19,
   "metadata": {
    "id": "uVMKqaAwudBb"
   },
   "outputs": [
    {
     "name": "stdout",
     "output_type": "stream",
     "text": [
      "Введите год: 2023\n",
      "Введенный год обычный\n"
     ]
    }
   ],
   "source": [
    "#12. По номеру года определите, является ли данный год високосным. (год является високосным, если его номер кратен 4, но не кратен 100, а также если он кратен 400).\n",
    "\n",
    "c = int(input(\"Введите год: \", ))\n",
    "\n",
    "if (c%4 == 0) or (c%400 == 0):\n",
    "    if (c%100!=0):\n",
    "        print(\"Введенный год високосный\")\n",
    "else:\n",
    "    print(\"Введенный год обычный\")\n",
    "\n"
   ]
  },
  {
   "cell_type": "code",
   "execution_count": 18,
   "metadata": {
    "id": "-6wQPyGrufMi"
   },
   "outputs": [
    {
     "name": "stdout",
     "output_type": "stream",
     "text": [
      "Точка пересечения: (3.25, 3.25)\n"
     ]
    }
   ],
   "source": [
    "#18. Даны точки $A=(1,1),B=(5,5),C=(1,4),D=(7,2)$. Найти точку пересечения отрезков $AB$ и $CD$.\n",
    "\n",
    "def get_intersection_point(A, B, C, D):\n",
    "    x1, y1 = A\n",
    "    x2, y2 = B\n",
    "    x3, y3 = C\n",
    "    x4, y4 = D\n",
    "\n",
    "    denominator = (x1 - x2) * (y3 - y4) - (y1 - y2) * (x3 - x4)\n",
    "\n",
    "    if denominator == 0:\n",
    "        # Отрезки параллельны или совпадают\n",
    "        return None\n",
    "\n",
    "    intersection_x = ((x1*y2 - y1*x2) * (x3 - x4) - (x1 - x2) * (x3*y4 - y3*x4)) / denominator\n",
    "    intersection_y = ((x1*y2 - y1*x2) * (y3 - y4) - (y1 - y2) * (x3*y4 - y3*x4)) / denominator\n",
    "\n",
    "    return intersection_x, intersection_y\n",
    "\n",
    "\n",
    "A = (1, 1)\n",
    "B = (5, 5)\n",
    "C = (1, 4)\n",
    "D = (7, 2)\n",
    "\n",
    "intersection = get_intersection_point(A, B, C, D)\n",
    "print(\"Точка пересечения: {}\".format(intersection))"
   ]
  },
  {
   "cell_type": "code",
   "execution_count": null,
   "metadata": {},
   "outputs": [],
   "source": []
  }
 ],
 "metadata": {
  "colab": {
   "collapsed_sections": [
    "cx7XKT4bnkp4"
   ],
   "provenance": []
  },
  "kernelspec": {
   "display_name": "Python 3 (ipykernel)",
   "language": "python",
   "name": "python3"
  },
  "language_info": {
   "codemirror_mode": {
    "name": "ipython",
    "version": 3
   },
   "file_extension": ".py",
   "mimetype": "text/x-python",
   "name": "python",
   "nbconvert_exporter": "python",
   "pygments_lexer": "ipython3",
   "version": "3.11.4"
  }
 },
 "nbformat": 4,
 "nbformat_minor": 1
}
